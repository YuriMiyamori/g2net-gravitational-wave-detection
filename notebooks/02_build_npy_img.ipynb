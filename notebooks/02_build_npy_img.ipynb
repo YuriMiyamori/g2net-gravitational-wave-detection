{
 "cells": [
  {
   "cell_type": "code",
   "execution_count": 1,
   "metadata": {},
   "outputs": [],
   "source": [
    "using DataFrames, DataFramesMeta, CSV\n",
    "using NPZ\n",
    "using Random, Statistics\n",
    "using DSP,FFTW, AbstractFFTs,Interpolations\n",
    "using Wavelets, ContinuousWavelets\n",
    "using ProgressMeter\n",
    "using BenchmarkTools\n",
    "using Profile\n",
    "using StatsBase"
   ]
  },
  {
   "cell_type": "code",
   "execution_count": 32,
   "metadata": {},
   "outputs": [],
   "source": [
    "using PyPlot\n",
    "plt.style.use(\"seaborn-whitegrid\");\n",
    "rcParams = PyPlot.PyDict(PyPlot.matplotlib.\"rcParams\")\n",
    "rcParams[\"font.size\"] = 12\n",
    "rcParams[\"figure.figsize\"] = [16,16]\n",
    "rcParams[\"figure.dpi\"] = 220;"
   ]
  },
  {
   "cell_type": "code",
   "execution_count": 2,
   "metadata": {},
   "outputs": [
    {
     "data": {
      "text/plain": [
       "\"/home/yuri/kaggle/g2net-gravitational-wave-detection/\""
      ]
     },
     "execution_count": 2,
     "metadata": {},
     "output_type": "execute_result"
    }
   ],
   "source": [
    "const sampling_rate = 2048.0\n",
    "const dt = 1. / sampling_rate\n",
    "const M_solor = 1.9884*10.0^30.0\n",
    "const G = 6.67430*10.0^(-11.0)\n",
    "const c =  299_792_458.0\n",
    "const save_dim = 528\n",
    "const BASE_DIR = \"/home/yuri/kaggle/g2net-gravitational-wave-detection/\""
   ]
  },
  {
   "cell_type": "code",
   "execution_count": 3,
   "metadata": {},
   "outputs": [],
   "source": [
    "const save_dim = 528\n",
    "const t_4096 = collect(1:4096) ./ 4096\n",
    "const t_save_dim = collect(1:save_dim) ./ save_dim;"
   ]
  },
  {
   "cell_type": "code",
   "execution_count": 4,
   "metadata": {},
   "outputs": [
    {
     "name": "stdout",
     "output_type": "stream",
     "text": [
      "1\n"
     ]
    }
   ],
   "source": [
    "using Base.Threads\n",
    "println(nthreads())"
   ]
  },
  {
   "cell_type": "code",
   "execution_count": 5,
   "metadata": {},
   "outputs": [
    {
     "data": {
      "text/plain": [
       "fade! (generic function with 1 method)"
      ]
     },
     "execution_count": 5,
     "metadata": {},
     "output_type": "execute_result"
    }
   ],
   "source": [
    "function fade!(signal; fade_length=0.03)\n",
    "    n = length(signal)\n",
    "    n0 = floor(Int, length(signal) * fade_length)\n",
    "    n1 = n - n0\n",
    "    t = collect(1:n)\n",
    "\n",
    "    sigmoid(x)=1 ./(1 .+exp(-14 .*(x .-0.5)))\n",
    "    for i in 1:n0\n",
    "        signal[i] = signal[i] * sigmoid(i/n0)\n",
    "    end\n",
    "    for i in n1:n\n",
    "        signal[i] = signal[i] * sigmoid((n-i)/(n-n1))\n",
    "    end\n",
    "    nothing\n",
    "end"
   ]
  },
  {
   "cell_type": "code",
   "execution_count": 6,
   "metadata": {},
   "outputs": [
    {
     "data": {
      "text/plain": [
       "Mc (generic function with 1 method)"
      ]
     },
     "execution_count": 6,
     "metadata": {},
     "output_type": "execute_result"
    }
   ],
   "source": [
    "function Mc(m1, m2)\n",
    "    # charp mass\n",
    "    m1 = m1 * M_solor\n",
    "    m2 = m2 * M_solor\n",
    "    return (m1*m2)^(3/5) * (m1+m2)^(-1/5) /M_solor\n",
    "end"
   ]
  },
  {
   "cell_type": "code",
   "execution_count": 7,
   "metadata": {},
   "outputs": [
    {
     "data": {
      "text/plain": [
       "template_signal (generic function with 1 method)"
      ]
     },
     "execution_count": 7,
     "metadata": {},
     "output_type": "execute_result"
    }
   ],
   "source": [
    "function template_signal(Mc; total_length=4096, signal_time=0.5)\n",
    "    \"\"\"\n",
    "    インスパイラル期のシグナルを作成\n",
    "    \"\"\"\n",
    "    # @assert m1 <= m2\n",
    "    signal_length = floor(Int, signal_time*sampling_rate)\n",
    "\n",
    "    ω(t) = c^3/(5*G*Mc)*t\n",
    "    h(t) = (ω(t))^(-1/4) * cos(-2.0*(ω(t))^(5/8))\n",
    "    h_sig = Vector{Float32}(undef, total_length)\n",
    "\n",
    "    t_min = 1.0 / 100.0 #\n",
    "    for i in 1:signal_length\n",
    "        t = (signal_length-i)*dt +t_min\n",
    "        h_sig[i] = h(t)\n",
    "    end\n",
    "    @. h_sig[signal_length+1:end] = 0.0\n",
    "    @views h_view = h_sig[1:signal_length]\n",
    "    fade!(h_view,fade_length=0.04)\n",
    "    return Array(h_sig)\n",
    "end"
   ]
  },
  {
   "cell_type": "code",
   "execution_count": 8,
   "metadata": {},
   "outputs": [
    {
     "data": {
      "text/plain": [
       "template_signal_arr_fft (generic function with 1 method)"
      ]
     },
     "execution_count": 8,
     "metadata": {},
     "output_type": "execute_result"
    }
   ],
   "source": [
    "function template_signal_arr_fft(Mc_arr; total_length=4096, signal_time=0.5)\n",
    "    \"\"\"\n",
    "    インスパイラル期のシグナルを作成\n",
    "    \"\"\"\n",
    "    h̃_arr = Array{ComplexF32, 2}(undef, (total_length, length(Mc_arr)))\n",
    "    # @assert m1 <= m2\n",
    "    signal_length = floor(Int, signal_time*sampling_rate)\n",
    "    @showprogress for (i, Mc) in enumerate(Mc_arr)\n",
    "        h_sig = template_signal(Mc*M_solor)\n",
    "        h̃ = FFTW.fft(h_sig)\n",
    "        h̃_arr[:,i] .= h̃\n",
    "    end\n",
    "    return h̃_arr\n",
    "end"
   ]
  },
  {
   "cell_type": "code",
   "execution_count": 12,
   "metadata": {},
   "outputs": [
    {
     "data": {
      "text/plain": [
       "matched_filter_core! (generic function with 1 method)"
      ]
     },
     "execution_count": 12,
     "metadata": {},
     "output_type": "execute_result"
    }
   ],
   "source": [
    "function matched_filter_core!(s̃::Vector{ComplexF32}, h̃::Vector{ComplexF32}, vals::Dict{Symbol, Vector{ComplexF32}},SNR::SubArray{Float32})\n",
    "    # matched filterを計算する，\n",
    "    @assert length(s̃) == length(h̃) == 4096\n",
    "    h̃_conj = vals[:h̃_conj] # :Vector{ComplexF32}(undef, 4096)\n",
    "    optimal =vals[:optimal] #  Vector{ComplexF32}(undef, 4096)\n",
    "    tmp =vals[:tmp]\n",
    "    h̃_conj .= conj.(h̃)\n",
    "    # freq = FFTW.fftfreq(length(s̃), sampling_rate)\n",
    "    df = 0.16662598649418273  #freq[2] - freq[1]\n",
    "    @. optimal = s̃ *h̃_conj *df\n",
    "    FFTW.ifft!(optimal)\n",
    "    optimal .*= sampling_rate\n",
    "    @. tmp = h̃ * h̃_conj\n",
    "    sigmasq = sum(tmp)*df\n",
    "    sigma = sqrt(abs(sigmasq))\n",
    "    itp = interpolate((t_4096, ), abs.(optimal./sigma), Gridded(Linear()))\n",
    "    @. SNR = itp(t_save_dim)\n",
    "    nothing\n",
    "end"
   ]
  },
  {
   "cell_type": "code",
   "execution_count": 28,
   "metadata": {},
   "outputs": [
    {
     "data": {
      "text/plain": [
       "matched_filter_main! (generic function with 1 method)"
      ]
     },
     "execution_count": 28,
     "metadata": {},
     "output_type": "execute_result"
    }
   ],
   "source": [
    "function matched_filter_main!(s, template_signal_fft_arr::Array{ComplexF32,2}, SNR_arr_3::SubArray{Float32})\n",
    "    s_pow = mean(abs.(s))\n",
    "    s = ComplexF32.(s)\n",
    "    FFTW.fft!(s)\n",
    "    vals = Dict(\n",
    "        :h̃_conj => Vector{ComplexF32}(undef, 4096),\n",
    "        :optimal => Vector{ComplexF32}(undef, 4096),\n",
    "        :tmp => Vector{ComplexF32}(undef, 4096)\n",
    "    )\n",
    "    for i in 1:size(template_signal_fft_arr,2) # 528\n",
    "        h̃ = template_signal_fft_arr[:, i]\n",
    "        matched_filter_core!(s, h̃, vals, @view SNR_arr_3[:,i])\n",
    "    end\n",
    "end"
   ]
  },
  {
   "cell_type": "code",
   "execution_count": 40,
   "metadata": {},
   "outputs": [
    {
     "data": {
      "text/plain": [
       "forloop_main (generic function with 2 methods)"
      ]
     },
     "execution_count": 40,
     "metadata": {},
     "output_type": "execute_result"
    }
   ],
   "source": [
    "function forloop_main(f::String, template_signal_fft_arr::Array{ComplexF32,2})\n",
    "    \n",
    "    sig = npzread(f) |> x-> reshape(x, 3, 4096) |> transpose |> Array{Float32}\n",
    "    SNR_arr_3 = Array{Float32,3}(undef, (save_dim, save_dim, 3))\n",
    "    SNR_arr_3_img = Array{UInt8,3}(undef, (save_dim, save_dim, 3))\n",
    "    \n",
    "    save_path = joinpath(save_dir, \"$(split(basename(f), '_')[1])_img.npy\")\n",
    "    # isfile(save_path) && return nothing\n",
    "    for site_idx in 1:3 # ([\"LIGO-H\", \"LIGO-L\", \"Virgo\"])\n",
    "        matched_filter_main!(sig[:, site_idx], template_signal_fft_arr, @view SNR_arr_3[:,:,site_idx])\n",
    "    end\n",
    "\n",
    "    for k in 1:3\n",
    "        for j in 1:save_dim\n",
    "            for i in 1:save_dim\n",
    "                elem= SNR_arr_3[i,j,k]\n",
    "                if elem > 200.0\n",
    "                    elem = 200.0\n",
    "                end\n",
    "                SNR_arr_3_img[i,j,k] = round(UInt8, elem * 255.0/200.0)\n",
    "            end\n",
    "        end\n",
    "    end\n",
    "    # @show save_path\n",
    "    fig, ax = plt.subplots()\n",
    "    ax.imshow(SNR_arr_3_img[:,:, 1])\n",
    "    \n",
    "    # npzwrite(joinpath(save_dir, fname), SNR_arr_3_img)\n",
    "    \n",
    "    return nothing\n",
    "end"
   ]
  },
  {
   "cell_type": "code",
   "execution_count": 41,
   "metadata": {
    "scrolled": false
   },
   "outputs": [
    {
     "name": "stderr",
     "output_type": "stream",
     "text": [
      "\u001b[32mProgress:   0%|                           |  ETA: 3 days, 9:28:48 ( 0.55  s/it)\u001b[39mm"
     ]
    },
    {
     "ename": "LoadError",
     "evalue": "\u001b[91mTaskFailedException:\u001b[39m\n\u001b[91m\u001b[91mInterruptException:\u001b[39m\u001b[39m\n\u001b[91mStacktrace:\u001b[39m\n\u001b[91m [1] \u001b[1mArray\u001b[22m at \u001b[1m./boot.jl:422\u001b[22m [inlined]\u001b[39m\n\u001b[91m [2] \u001b[1mArray\u001b[22m at \u001b[1m./boot.jl:431\u001b[22m [inlined]\u001b[39m\n\u001b[91m [3] \u001b[1mzeros\u001b[22m at \u001b[1m./array.jl:525\u001b[22m [inlined]\u001b[39m\n\u001b[91m [4] \u001b[1mzeros\u001b[22m at \u001b[1m./array.jl:521\u001b[22m [inlined]\u001b[39m\n\u001b[91m [5] \u001b[1mrehash!\u001b[22m\u001b[1m(\u001b[22m::Dict{Float64,Nothing}, ::Int64\u001b[1m)\u001b[22m at \u001b[1m./dict.jl:191\u001b[22m\u001b[39m\n\u001b[91m [6] \u001b[1m_setindex!\u001b[22m at \u001b[1m./dict.jl:367\u001b[22m [inlined]\u001b[39m\n\u001b[91m [7] \u001b[1msetindex!\u001b[22m\u001b[1m(\u001b[22m::Dict{Float64,Nothing}, ::Nothing, ::Float64\u001b[1m)\u001b[22m at \u001b[1m./dict.jl:388\u001b[22m\u001b[39m\n\u001b[91m [8] \u001b[1mpush!\u001b[22m at \u001b[1m./set.jl:57\u001b[22m [inlined]\u001b[39m\n\u001b[91m [9] \u001b[1mallunique\u001b[22m\u001b[1m(\u001b[22m::Array{Float64,1}\u001b[1m)\u001b[22m at \u001b[1m./set.jl:380\u001b[22m\u001b[39m\n\u001b[91m [10] \u001b[1mcheck_gridded\u001b[22m at \u001b[1m/home/yuri/.julia/packages/Interpolations/GIn2o/src/gridded/gridded.jl:51\u001b[22m [inlined]\u001b[39m\n\u001b[91m [11] \u001b[1mInterpolations.GriddedInterpolation\u001b[22m\u001b[1m(\u001b[22m::Type{Float64}, ::Tuple{Array{Float64,1}}, ::Array{Float64,1}, ::Gridded{Linear}\u001b[1m)\u001b[22m at \u001b[1m/home/yuri/.julia/packages/Interpolations/GIn2o/src/gridded/gridded.jl:32\u001b[22m\u001b[39m\n\u001b[91m [12] \u001b[1minterpolate\u001b[22m\u001b[1m(\u001b[22m::Type{Float64}, ::Type{Float64}, ::Tuple{Array{Float64,1}}, ::Array{Float64,1}, ::Gridded{Linear}\u001b[1m)\u001b[22m at \u001b[1m/home/yuri/.julia/packages/Interpolations/GIn2o/src/gridded/gridded.jl:66\u001b[22m\u001b[39m\n\u001b[91m [13] \u001b[1minterpolate\u001b[22m at \u001b[1m/home/yuri/.julia/packages/Interpolations/GIn2o/src/gridded/gridded.jl:83\u001b[22m [inlined]\u001b[39m\n\u001b[91m [14] \u001b[1mmatched_filter_core!\u001b[22m\u001b[1m(\u001b[22m::Array{Complex{Float32},1}, ::Array{Complex{Float32},1}, ::Dict{Symbol,Array{Complex{Float32},1}}, ::SubArray{Float32,1,Array{Float32,3},Tuple{Base.Slice{Base.OneTo{Int64}},Int64,Int64},true}\u001b[1m)\u001b[22m at \u001b[1m./In[12]:16\u001b[22m\u001b[39m\n\u001b[91m [15] \u001b[1mmatched_filter_main!\u001b[22m\u001b[1m(\u001b[22m::Array{Float32,1}, ::Array{Complex{Float32},2}, ::SubArray{Float32,2,Array{Float32,3},Tuple{Base.Slice{Base.OneTo{Int64}},Base.Slice{Base.OneTo{Int64}},Int64},true}\u001b[1m)\u001b[22m at \u001b[1m./In[28]:12\u001b[22m\u001b[39m\n\u001b[91m [16] \u001b[1mforloop_main\u001b[22m\u001b[1m(\u001b[22m::String, ::Array{Complex{Float32},2}\u001b[1m)\u001b[22m at \u001b[1m./In[40]:10\u001b[22m\u001b[39m\n\u001b[91m [17] \u001b[1mmacro expansion\u001b[22m at \u001b[1m./In[41]:17\u001b[22m [inlined]\u001b[39m\n\u001b[91m [18] \u001b[1m(::var\"#276#threadsfor_fun#47\"{Array{Complex{Float32},2},Progress,Array{Tuple{Int64,String},1}})\u001b[22m\u001b[1m(\u001b[22m::Bool\u001b[1m)\u001b[22m at \u001b[1m./threadingconstructs.jl:81\u001b[22m\u001b[39m\n\u001b[91m [19] \u001b[1m(::var\"#276#threadsfor_fun#47\"{Array{Complex{Float32},2},Progress,Array{Tuple{Int64,String},1}})\u001b[22m\u001b[1m(\u001b[22m\u001b[1m)\u001b[22m at \u001b[1m./threadingconstructs.jl:48\u001b[22m\u001b[39m",
     "output_type": "error",
     "traceback": [
      "\u001b[91mTaskFailedException:\u001b[39m\n\u001b[91m\u001b[91mInterruptException:\u001b[39m\u001b[39m\n\u001b[91mStacktrace:\u001b[39m\n\u001b[91m [1] \u001b[1mArray\u001b[22m at \u001b[1m./boot.jl:422\u001b[22m [inlined]\u001b[39m\n\u001b[91m [2] \u001b[1mArray\u001b[22m at \u001b[1m./boot.jl:431\u001b[22m [inlined]\u001b[39m\n\u001b[91m [3] \u001b[1mzeros\u001b[22m at \u001b[1m./array.jl:525\u001b[22m [inlined]\u001b[39m\n\u001b[91m [4] \u001b[1mzeros\u001b[22m at \u001b[1m./array.jl:521\u001b[22m [inlined]\u001b[39m\n\u001b[91m [5] \u001b[1mrehash!\u001b[22m\u001b[1m(\u001b[22m::Dict{Float64,Nothing}, ::Int64\u001b[1m)\u001b[22m at \u001b[1m./dict.jl:191\u001b[22m\u001b[39m\n\u001b[91m [6] \u001b[1m_setindex!\u001b[22m at \u001b[1m./dict.jl:367\u001b[22m [inlined]\u001b[39m\n\u001b[91m [7] \u001b[1msetindex!\u001b[22m\u001b[1m(\u001b[22m::Dict{Float64,Nothing}, ::Nothing, ::Float64\u001b[1m)\u001b[22m at \u001b[1m./dict.jl:388\u001b[22m\u001b[39m\n\u001b[91m [8] \u001b[1mpush!\u001b[22m at \u001b[1m./set.jl:57\u001b[22m [inlined]\u001b[39m\n\u001b[91m [9] \u001b[1mallunique\u001b[22m\u001b[1m(\u001b[22m::Array{Float64,1}\u001b[1m)\u001b[22m at \u001b[1m./set.jl:380\u001b[22m\u001b[39m\n\u001b[91m [10] \u001b[1mcheck_gridded\u001b[22m at \u001b[1m/home/yuri/.julia/packages/Interpolations/GIn2o/src/gridded/gridded.jl:51\u001b[22m [inlined]\u001b[39m\n\u001b[91m [11] \u001b[1mInterpolations.GriddedInterpolation\u001b[22m\u001b[1m(\u001b[22m::Type{Float64}, ::Tuple{Array{Float64,1}}, ::Array{Float64,1}, ::Gridded{Linear}\u001b[1m)\u001b[22m at \u001b[1m/home/yuri/.julia/packages/Interpolations/GIn2o/src/gridded/gridded.jl:32\u001b[22m\u001b[39m\n\u001b[91m [12] \u001b[1minterpolate\u001b[22m\u001b[1m(\u001b[22m::Type{Float64}, ::Type{Float64}, ::Tuple{Array{Float64,1}}, ::Array{Float64,1}, ::Gridded{Linear}\u001b[1m)\u001b[22m at \u001b[1m/home/yuri/.julia/packages/Interpolations/GIn2o/src/gridded/gridded.jl:66\u001b[22m\u001b[39m\n\u001b[91m [13] \u001b[1minterpolate\u001b[22m at \u001b[1m/home/yuri/.julia/packages/Interpolations/GIn2o/src/gridded/gridded.jl:83\u001b[22m [inlined]\u001b[39m\n\u001b[91m [14] \u001b[1mmatched_filter_core!\u001b[22m\u001b[1m(\u001b[22m::Array{Complex{Float32},1}, ::Array{Complex{Float32},1}, ::Dict{Symbol,Array{Complex{Float32},1}}, ::SubArray{Float32,1,Array{Float32,3},Tuple{Base.Slice{Base.OneTo{Int64}},Int64,Int64},true}\u001b[1m)\u001b[22m at \u001b[1m./In[12]:16\u001b[22m\u001b[39m\n\u001b[91m [15] \u001b[1mmatched_filter_main!\u001b[22m\u001b[1m(\u001b[22m::Array{Float32,1}, ::Array{Complex{Float32},2}, ::SubArray{Float32,2,Array{Float32,3},Tuple{Base.Slice{Base.OneTo{Int64}},Base.Slice{Base.OneTo{Int64}},Int64},true}\u001b[1m)\u001b[22m at \u001b[1m./In[28]:12\u001b[22m\u001b[39m\n\u001b[91m [16] \u001b[1mforloop_main\u001b[22m\u001b[1m(\u001b[22m::String, ::Array{Complex{Float32},2}\u001b[1m)\u001b[22m at \u001b[1m./In[40]:10\u001b[22m\u001b[39m\n\u001b[91m [17] \u001b[1mmacro expansion\u001b[22m at \u001b[1m./In[41]:17\u001b[22m [inlined]\u001b[39m\n\u001b[91m [18] \u001b[1m(::var\"#276#threadsfor_fun#47\"{Array{Complex{Float32},2},Progress,Array{Tuple{Int64,String},1}})\u001b[22m\u001b[1m(\u001b[22m::Bool\u001b[1m)\u001b[22m at \u001b[1m./threadingconstructs.jl:81\u001b[22m\u001b[39m\n\u001b[91m [19] \u001b[1m(::var\"#276#threadsfor_fun#47\"{Array{Complex{Float32},2},Progress,Array{Tuple{Int64,String},1}})\u001b[22m\u001b[1m(\u001b[22m\u001b[1m)\u001b[22m at \u001b[1m./threadingconstructs.jl:48\u001b[22m\u001b[39m",
      "",
      "Stacktrace:",
      " [1] wait at ./task.jl:267 [inlined]",
      " [2] threading_run(::Function) at ./threadingconstructs.jl:34",
      " [3] macro expansion at ./threadingconstructs.jl:93 [inlined]",
      " [4] SNR_main(::String) at ./In[41]:15",
      " [5] top-level scope at In[41]:21",
      " [6] include_string(::Function, ::Module, ::String, ::String) at ./loading.jl:1091"
     ]
    }
   ],
   "source": [
    "function SNR_main(train_test)\n",
    "    Mc_min = 0.5\n",
    "    Mc_max = 50.0\n",
    "    input_dir = joinpath(BASE_DIR, \"dataset/01_equalized/$(train_test)\")\n",
    "\n",
    "    Mc_arr = range(Mc_min, Mc_max, length=save_dim)\n",
    "    template_signal_fft_arr =template_signal_arr_fft(Mc_arr)\n",
    "    global save_dir = joinpath(BASE_DIR, \"dataset/02_image_npy/$(train_test)\")\n",
    "\n",
    "    # for stype in [\"no_sig\"]\n",
    "    # for stype in [\"in_sig\", \"no_sig\"]\n",
    "    files = readdir(input_dir, join=true)\n",
    "    # files = files[1:4]\n",
    "    p = Progress(length(files); showspeed=true)\n",
    "    @threads for (count,f) in collect(enumerate(files))\n",
    "        # println(\"$count / $(length(files))\")\n",
    "        forloop_main(f, template_signal_fft_arr)\n",
    "        next!(p)\n",
    "    end\n",
    "end\n",
    "SNR_main(\"train\")"
   ]
  },
  {
   "cell_type": "code",
   "execution_count": 42,
   "metadata": {},
   "outputs": [
    {
     "data": {
      "text/plain": [
       "\"/media/ssd_backup/g2net/dataset/02_image_npy/train/eb7a2e852e_img.npy\""
      ]
     },
     "execution_count": 42,
     "metadata": {},
     "output_type": "execute_result"
    }
   ],
   "source": [
    "BACKUP_DIR = \"/media/ssd_backup/g2net/dataset/02_image_npy\"\n",
    "train_test = \"train\"\n",
    "f = \"a/b/b/eb7a2e852e_img.npy\"\n",
    "joinpath(BACKUP_DIR, train_test, basename(f))"
   ]
  },
  {
   "cell_type": "code",
   "execution_count": null,
   "metadata": {},
   "outputs": [],
   "source": []
  }
 ],
 "metadata": {
  "kernelspec": {
   "display_name": "Julia 1.5.4",
   "language": "julia",
   "name": "julia-1.5"
  },
  "language_info": {
   "file_extension": ".jl",
   "mimetype": "application/julia",
   "name": "julia",
   "version": "1.5.4"
  }
 },
 "nbformat": 4,
 "nbformat_minor": 2
}
